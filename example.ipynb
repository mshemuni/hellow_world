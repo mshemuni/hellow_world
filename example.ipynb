{
 "cells": [
  {
   "cell_type": "markdown",
   "id": "655ca82e",
   "metadata": {},
   "source": [
    "# Hello World Example for Python 3.X"
   ]
  },
  {
   "cell_type": "markdown",
   "id": "62b67b0a",
   "metadata": {},
   "source": [
    "For this one need to\n",
    "1. Create some `Character`s.\n",
    "2. Merge thoes `Character`s as a `Message`\n",
    "3. Pass it to an object to print it. (`Hello`)"
   ]
  },
  {
   "cell_type": "code",
   "execution_count": 1,
   "id": "3223ced6",
   "metadata": {},
   "outputs": [],
   "source": [
    "from hello_world import Character, Message, Hello"
   ]
  },
  {
   "cell_type": "markdown",
   "id": "6535838e",
   "metadata": {},
   "source": [
    "We imported all we want.\n",
    "\n",
    "Now we need to create a character"
   ]
  },
  {
   "cell_type": "code",
   "execution_count": 2,
   "id": "ecc4e2f3",
   "metadata": {},
   "outputs": [
    {
     "name": "stdout",
     "output_type": "stream",
     "text": [
      "H\n",
      "e\n"
     ]
    }
   ],
   "source": [
    "h = Character(\"H\")\n",
    "e = Character(\"e\")\n",
    "print(h)\n",
    "print(e)"
   ]
  },
  {
   "cell_type": "markdown",
   "id": "aa5befe5",
   "metadata": {},
   "source": [
    "Now we need to pass the characters to a message handler:"
   ]
  },
  {
   "cell_type": "code",
   "execution_count": 3,
   "id": "d100e363",
   "metadata": {},
   "outputs": [
    {
     "name": "stdout",
     "output_type": "stream",
     "text": [
      "He\n"
     ]
    }
   ],
   "source": [
    "msg = Message([h, e])\n",
    "print(msg)"
   ]
  },
  {
   "cell_type": "markdown",
   "id": "cc16af19",
   "metadata": {},
   "source": [
    "Last but not least, we pass this message to a handler to print it:"
   ]
  },
  {
   "cell_type": "code",
   "execution_count": 4,
   "id": "3ce4f134",
   "metadata": {},
   "outputs": [
    {
     "name": "stdout",
     "output_type": "stream",
     "text": [
      "He\n"
     ]
    }
   ],
   "source": [
    "h = Hello(msg)\n",
    "h.print()"
   ]
  },
  {
   "cell_type": "markdown",
   "id": "19ea9c32",
   "metadata": {},
   "source": [
    "## Now for the whole hellow world:"
   ]
  },
  {
   "cell_type": "code",
   "execution_count": 5,
   "id": "1f796a27",
   "metadata": {},
   "outputs": [
    {
     "name": "stdout",
     "output_type": "stream",
     "text": [
      "Hello World!\n"
     ]
    }
   ],
   "source": [
    "m = Message(\n",
    "    [\n",
    "        Character(\"H\"), Character(\"e\"), Character(\"l\"),\n",
    "        Character(\"l\"), Character(\"o\"), Character(\" \"),\n",
    "        Character(\"W\"), Character(\"o\"), Character(\"r\"),\n",
    "        Character(\"l\"), Character(\"d\"), Character(\"!\")\n",
    "    ]\n",
    ")\n",
    "h = Hello(m)\n",
    "h.print()"
   ]
  }
 ],
 "metadata": {
  "kernelspec": {
   "display_name": "Python 3 (ipykernel)",
   "language": "python",
   "name": "python3"
  },
  "language_info": {
   "codemirror_mode": {
    "name": "ipython",
    "version": 3
   },
   "file_extension": ".py",
   "mimetype": "text/x-python",
   "name": "python",
   "nbconvert_exporter": "python",
   "pygments_lexer": "ipython3",
   "version": "3.9.7"
  }
 },
 "nbformat": 4,
 "nbformat_minor": 5
}
